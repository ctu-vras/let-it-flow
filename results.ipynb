{
 "cells": [
  {
   "cell_type": "markdown",
   "metadata": {},
   "source": [
    "# Load Experiments as metrics"
   ]
  },
  {
   "cell_type": "code",
   "execution_count": null,
   "metadata": {},
   "outputs": [],
   "source": [
    "# calculate metrics\n",
    "# script to final metrics\n",
    "\n",
    "import glob\n",
    "import os\n",
    "import numpy as np\n",
    "\n",
    "os.chdir('/home.dokt/vacekpa2/let-it-flow')\n",
    "import pandas as pd\n",
    "\n",
    "from vis.render import vis_data\n",
    "from vis.deprecated_vis import *\n",
    "exps = sorted(glob.glob('/datagrid/public_datasets/let-id-flow/experiments/mb_argoverse/*'))\n",
    "\n",
    "for exp in exps:\n",
    "    # print(exp)\n",
    "    if len(os.path.basename(exp)) == 1:\n",
    "        cfg = pd.read_csv(os.path.join(exp, 'config.csv'), index_col=0).iloc[0].to_dict()\n",
    "        print(cfg)\n",
    "\n",
    "    try:\n",
    "        threeway_epe = [pd.read_csv(os.path.join(exp, f'{file}.csv'), index_col=0).to_dict()['0']['EPE'] for file in ['DFG', 'SFG', 'SBG']]\n",
    "        # metrics = pd.read_csv(os.path.join(exp, 'overall.csv'), index_col=0).to_dict()['0']\n",
    "        \n",
    "        print({'DFG' : f\"{threeway_epe[0]:.3f}\", 'SFG' : f\"{threeway_epe[1]:.3f}\", 'SBG' :  f\"{threeway_epe[2]:.3f}\", 'average' : f\"{(threeway_epe[0] + threeway_epe[1] + threeway_epe[2])/3:.3f}\"}, end=' ')\n",
    "        overall_epe = pd.read_csv(os.path.join(exp, 'overall.csv'), index_col=0).to_dict()['0']['EPE']\n",
    "        print(f\"overall : {overall_epe:.3f}\")\n",
    "    except:\n",
    "        print(exp, ' with no metric')\n",
    "\n",
    "    inference = sorted(glob.glob(exp + '/inference/*.npz'))\n",
    "    \n",
    "\n",
    "    \n",
    "    # for idx, inference_file in enumerate(inference):\n",
    "\n",
    "        \n",
    "    #     inf_file = np.load(inference_file, allow_pickle=True)\n",
    "    #     pc1 = inf_file['pc1']\n",
    "    #     pc2 = inf_file['pc2']\n",
    "    #     gt_flow = inf_file['gt_flow']\n",
    "    #     pred_flow = inf_file['pred_flow']\n",
    "\n",
    "    #     data_dict = {'pts': pc1, 'pc2': pc2, 'gt_flow': gt_flow, 'pred_flow': pred_flow, 'id_mask' : np.zeros(pc1.shape[0])}\n",
    "        # vis_data(data_dict=data_dict, path=os.path.basename(inference_file))\n",
    "        # break\n",
    "        # if idx == 30: break\n",
    "\n",
    "    # break\n"
   ]
  },
  {
   "cell_type": "markdown",
   "metadata": {},
   "source": [
    "# Mechanism Visualization"
   ]
  },
  {
   "cell_type": "markdown",
   "metadata": {},
   "source": [
    "### Polar KNN"
   ]
  },
  {
   "cell_type": "code",
   "execution_count": 1,
   "metadata": {},
   "outputs": [
    {
     "name": "stderr",
     "output_type": "stream",
     "text": [
      "  5%|███                                                           | 10/202 [00:03<01:14,  2.59it/s]\n"
     ]
    }
   ],
   "source": [
    "\n",
    "import os\n",
    "os.chdir('/home.dokt/vacekpa2/let-it-flow')\n",
    "import sys\n",
    "import time\n",
    "import torch\n",
    "import numpy as np\n",
    "import pandas as pd\n",
    "from tqdm import tqdm\n",
    "from data.PATHS import EXP_PATH\n",
    "\n",
    "from pytorch3d.ops.knn import knn_points\n",
    "\n",
    "from models.NP import NeuralPriorNetwork\n",
    "from models.scoopy.get_model import PretrainedSCOOP\n",
    "\n",
    "from loss.flow import GeneralLoss\n",
    "\n",
    "from ops.metric import SceneFlowMetric\n",
    "from data.dataloader import NSF_dataset\n",
    "\n",
    "from configs.evalute_datasets import cfg as cfg_df\n",
    "from models.seed import seed_everything\n",
    "from vis.deprecated_vis import *\n",
    "# from vis.render import vis_data\n",
    "# !pip install torch_scatter\n",
    "\n",
    "cfg = {'dataset_type': 'waymo',\n",
    "                    'model' : 'NP',\n",
    "                    'lr': 0.008,\n",
    "                    'K': 4,    \n",
    "                    'max_radius': 2,\n",
    "                    'grid_factor': 10,\n",
    "                    'smooth_weight': 1,\n",
    "                    'forward_weight': 1,\n",
    "                    'sm_normals_K': 4,                \n",
    "                    'early_patience': 0,\n",
    "                    'max_iters': 400,\n",
    "                    'runs': 1,\n",
    "                    \n",
    "                    }\n",
    "\n",
    "from sklearn.cluster import DBSCAN\n",
    "from loss.flow import GeneralLoss\n",
    "from loss.instance import DensityLoss\n",
    "from loss.flow import SC2_KNN\n",
    "\n",
    "from tqdm import tqdm\n",
    "from loss.instance import DensityLoss, smooth_cluster_ids\n",
    "from loss.flow import GeneralLoss\n",
    "from ops.visibility2D import calculate_polar_coords\n",
    "from models.let_it_flow import generate_polar_KNN\n",
    "\n",
    "if torch.cuda.is_available():\n",
    "        device = torch.device(7)\n",
    "else:\n",
    "    device = torch.device('cpu')\n",
    "\n",
    "# DBLoss = DensityLoss(pc, eps=0.15, min_samples=1)\n",
    "# visualize_multiple_pcls(*[pc[i].detach().cpu().numpy() for i in range(len(pc))]\n",
    "\n",
    "if __name__ == '__main__':\n",
    "\n",
    "    if torch.cuda.is_available():\n",
    "        device = torch.device(7)\n",
    "    else:\n",
    "        device = torch.device('cpu')\n",
    "\n",
    "    for run in range(cfg['runs']):\n",
    "\n",
    "        metric = SceneFlowMetric()\n",
    "        dataset = NSF_dataset(dataset_type=cfg['dataset_type'])\n",
    "\n",
    "        \n",
    "\n",
    "        for f, data in enumerate(tqdm(dataset)):\n",
    "            if f != 10: continue    # 61 end\n",
    "\n",
    "            max_loss = 100000\n",
    "            pc1 = data['pc1'].to(device)\n",
    "            pc2 = data['pc2'].to(device)\n",
    "            gt_flow = data['gt_flow'].to(device)\n",
    "\n",
    "            M = 75\n",
    "            # SmoothLosses = GeneralLoss(pc1=pc1[:, :, :3], pc2=pc1[:, :, :3], K=16, smooth_weight=1)\n",
    "            # DBLoss = DensityLoss(pc1, eps=0.15, min_samples=1)\n",
    "\n",
    "            logs_mask = torch.rand(pc1.shape[0], pc1.shape[1], M, device=device, requires_grad=True)\n",
    "            optimizer = torch.optim.Adam([logs_mask], lr=0.003)\n",
    "\n",
    "            # apply DBSCAN to pc1 with eps 0.8 and min_samples=30 in the following lines\n",
    "            clusters = DBSCAN(eps=0.8, min_samples=30).fit(pc1[0].detach().cpu().numpy()).labels_\n",
    "            \n",
    "\n",
    "\n",
    "            break\n",
    "\n",
    "c_id = 25\n",
    "\n",
    "from models.let_it_flow import generate_polar_KNN\n",
    "\n",
    "nn_ind = generate_polar_KNN(pc1, K=9, max_depth_diff=0.5)\n",
    "visualize_KNN_connections(pc1[0].detach().cpu().numpy(), nn_ind[0, :].detach().cpu().numpy())"
   ]
  },
  {
   "cell_type": "markdown",
   "metadata": {},
   "source": [
    "# Qualitative Examples"
   ]
  },
  {
   "cell_type": "markdown",
   "metadata": {},
   "source": [
    "### Flow and Clusters"
   ]
  },
  {
   "cell_type": "code",
   "execution_count": 13,
   "metadata": {},
   "outputs": [
    {
     "name": "stderr",
     "output_type": "stream",
     "text": [
      "  2%|█▎                                                            | 11/500 [00:00<00:09, 49.13it/s]"
     ]
    },
    {
     "name": "stdout",
     "output_type": "stream",
     "text": [
      "0.023509178310632706\n"
     ]
    },
    {
     "name": "stderr",
     "output_type": "stream",
     "text": [
      " 22%|█████████████▏                                               | 108/500 [00:02<00:07, 51.79it/s]"
     ]
    },
    {
     "name": "stdout",
     "output_type": "stream",
     "text": [
      "0.010048627853393555\n"
     ]
    },
    {
     "name": "stderr",
     "output_type": "stream",
     "text": [
      " 42%|█████████████████████████▌                                   | 210/500 [00:04<00:05, 51.52it/s]"
     ]
    },
    {
     "name": "stdout",
     "output_type": "stream",
     "text": [
      "0.010022266767919064\n"
     ]
    },
    {
     "name": "stderr",
     "output_type": "stream",
     "text": [
      " 61%|█████████████████████████████████████▎                       | 306/500 [00:05<00:03, 52.23it/s]"
     ]
    },
    {
     "name": "stdout",
     "output_type": "stream",
     "text": [
      "0.01002712082117796\n"
     ]
    },
    {
     "name": "stderr",
     "output_type": "stream",
     "text": [
      " 82%|█████████████████████████████████████████████████▊           | 408/500 [00:07<00:01, 51.55it/s]"
     ]
    },
    {
     "name": "stdout",
     "output_type": "stream",
     "text": [
      "0.010032369755208492\n"
     ]
    },
    {
     "name": "stderr",
     "output_type": "stream",
     "text": [
      "100%|█████████████████████████████████████████████████████████████| 500/500 [00:09<00:00, 51.71it/s]\n"
     ]
    }
   ],
   "source": [
    "# probabilities in spectral clustering\n",
    "from loss.flow import SC2_KNN, GeneralLoss, MBSC\n",
    "from loss import sc_utils\n",
    "from tqdm import tqdm\n",
    "\n",
    "p1 = pc1[0, clusters==c_id].unsqueeze(0)\n",
    "p2 = pc2\n",
    "f1 = torch.zeros(p1.shape[0], p1.shape[1], 3, requires_grad=True, device=device)\n",
    "# mask = torch.rand(p1.shape[0], p1.shape[1], 10, requires_grad=True, device=device)\n",
    "\n",
    "optimizer = torch.optim.Adam([f1], lr=0.01)\n",
    "\n",
    "d_thre = 0.03 * 2\n",
    "\n",
    "SC2_Loss = SC2_KNN(pc1=p1, K=16, use_normals=False, d_thre=d_thre)\n",
    "SmoothLoss = GeneralLoss(p1, p2, K=8, smooth_weight=1, forward_weight=1, use_normals=False)\n",
    "\n",
    "# visualize_points3D(p1[0].detach().cpu().numpy(), mask[0].argmax(dim=-1).detach().cpu().numpy())\n",
    "# d_thre = 0.03 / 10000\n",
    "\n",
    "for i in tqdm(range(500)):\n",
    "    optimizer.zero_grad()\n",
    "    \n",
    "    loss = 0\n",
    "    dist, _, _ = knn_points(p1 + f1, p2)\n",
    "    # backward_dist, _, _ = knn_points(p2, p1 + f1)\n",
    "    loss += 3 * dist.mean() #+ backward_dist[backward_dist < 1.].mean() #+ SC2_Loss(f1).mean()\n",
    "    # smooth_loss, per_point_smooth = SmoothLoss.smoothness_loss(mask.softmax(dim=-1), SmoothLoss.NN_pc1)\n",
    "    # loss += smooth_loss\n",
    "    # src_keypts = torch.cat((p1, mask.softmax(dim=-1)), dim=-1).detach()    \n",
    "    # SC2_Loss.src_keypts = src_keypts[:, SC2_Loss.kNN[:, :, :]]\n",
    "\n",
    "    # target_keypts = torch.cat((f1, mask.softmax(dim=-1)), dim=-1)\n",
    "    target_keypts = f1\n",
    "    loss += SC2_Loss(target_keypts).mean()\n",
    "    \n",
    "    if i % 100 == 0: print(loss.item())\n",
    "    loss.backward()\n",
    "    optimizer.step()\n",
    "\n",
    "\n",
    "visualize_flow3d(p1[0], p2[0], f1[0])\n",
    "# visualize_points3D(p1[0].detach().cpu().numpy(), mask[0].argmax(dim=-1).detach().cpu().numpy())\n",
    "# visualize_flow3d(p1[0], p2[0], gt_flow[0, clusters==c_id, :3])"
   ]
  },
  {
   "cell_type": "code",
   "execution_count": 22,
   "metadata": {},
   "outputs": [
    {
     "data": {
      "image/png": "[encoded data removed]",
      "text/plain": [
       "<IPython.core.display.Image object>"
      ]
     },
     "metadata": {
      "image/png": {
       "width": 800
      }
     },
     "output_type": "display_data"
    },
    {
     "name": "stdout",
     "output_type": "stream",
     "text": [
      "0.24825607\n"
     ]
    }
   ],
   "source": [
    "\n",
    "from ops.rays import raycast_NN\n",
    "\n",
    "_, spring_knn, _ = knn_points(p1, p1, K=16)\n",
    "r_, ind_ = raycast_NN(pc1[0, clusters==c_id].detach().cpu().numpy(), spring_knn[0].detach().cpu().numpy(), fill_pts=10)\n",
    "\n",
    "spring_energy = SC2_Loss.leading_eig.view(-1).detach().cpu().numpy()\n",
    "r_.shape, spring_energy.shape\n",
    "# visualize_points3D(r_, ind_[:,1], lookat=[0,0,0])\n",
    "\n",
    "plt.plot(SC2_Loss.leading_eig[471].view(-1).detach().cpu().numpy(), '.')\n",
    "\n",
    "imshow(plt)\n",
    "plt.close()\n",
    "print(SC2_Loss.leading_eig[471].view(-1).detach().cpu().numpy()[-4])\n",
    "l, u = torch.linalg.eigh(SC2_Loss.A[471])\n",
    "SC2_Loss.kNN[0,471, -4]\n",
    "\n",
    "# visu\n",
    "# torch.abs(u[-, -1])\n",
    "visualize_flow3d(p1[0], p2[0], f1[0])\n",
    "# visualize_points3D(p1[0], torch.range(0, p1.shape[1]-1), lookat=[0,0,0])\n",
    "# visualize_flow3d(p1[0], p2[0], gt_flow[0, clusters==c_id, :3])"
   ]
  },
  {
   "cell_type": "code",
   "execution_count": null,
   "metadata": {},
   "outputs": [],
   "source": [
    "from loss import sc_utils\n",
    "\n",
    "p1 = pc1[0, clusters==c_id].unsqueeze(0)\n",
    "p2 = pc2\n",
    "f_mb = torch.zeros(p1.shape[0], p1.shape[1], 3, requires_grad=True, device=device)\n",
    "\n",
    "optimizer = torch.optim.Adam([f_mb], lr=0.001)\n",
    "\n",
    "\n",
    "def MBSC_loss(p1, f1):\n",
    "    \n",
    "    pc1_deformed = p1 + f1\n",
    "    cluster_cs_loss = sc_utils.spatial_consistency_loss(p1, pc1_deformed,\n",
    "                                                d_thre=0.03)\n",
    "    loss_sc = cluster_cs_loss\n",
    "    loss_sc = loss_sc.squeeze()\n",
    "    loss_sc = 1 * loss_sc\n",
    "\n",
    "    return loss_sc\n",
    "\n",
    "\n",
    "for i in range(1000):\n",
    "    optimizer.zero_grad()\n",
    "    dist, _, _ = knn_points(p1 + f_mb, p2)\n",
    "    \n",
    "    # loss = dist.mean() + SC2_Loss(f_mb).mean()\n",
    "    loss = dist.mean() + MBSC_loss(p1, f_mb).mean()\n",
    "    loss.backward()\n",
    "    optimizer.step()\n",
    "    # print(loss.item())\n",
    "\n",
    "# visualize_flow3d(p1[0], p2[0], f1[0])"
   ]
  },
  {
   "cell_type": "code",
   "execution_count": null,
   "metadata": {},
   "outputs": [],
   "source": [
    "from vis.utils import flow_to_rgb\n",
    "# max_flow_radius = max(f1[0].detach().cpu().numpy().max(), f_mb[0].detach().cpu().numpy().max(), gt_flow[0, clusters==c_id, :3].detach().cpu().numpy().max())\n",
    "max_flow_radius = None\n",
    "\n",
    "\n",
    "flow_KNN = flow_to_rgb(f1[0].detach().cpu().numpy(), flow_max_radius=max_flow_radius, background='bright') / 255.\n",
    "# flow_MB = flow_to_rgb(f_mb[0].detach().cpu().numpy(), flow_max_radius=max_flow_radius, background='bright') / 255.\n",
    "gt_flow_vis = flow_to_rgb(gt_flow[0, clusters==c_id, :3].detach().cpu().numpy(), flow_max_radius=max_flow_radius, background='bright') / 255.\n",
    "\n",
    "\n",
    "# visualize_flow3d(p1[0], p2[0], f1[0])\n",
    "# visualize_flow3d(p1[0], p2[0], f_mb[0])\n",
    "\n",
    "diff_f1 = (f1[0] - gt_flow[0, clusters==c_id, :3]).norm(dim=-1)\n",
    "# diff_mb = (f_mb[0] - gt_flow[0, clusters==c_id, :3]).norm(dim=-1)\n",
    "diff_gt = (gt_flow[0, clusters==c_id, :3] - gt_flow[0, clusters==c_id, :3]).norm(dim=-1)\n",
    "\n",
    "lookat = [-32.735, -8.366, -0.656]\n",
    "scale = [0, 0.1]\n",
    "bg_color = (.0, .0, .0, 0.0)\n",
    "r = 7.2\n",
    "\n",
    "\n",
    "# visualize_points3D(pc1[0], clusters, bg_color=bg_color, show_grid=False, show_axis=False, lookat=lookat, r=30)\n",
    "\n",
    "# clustering motion feature vectors\n",
    "from sklearn.cluster import DBSCAN\n",
    "eps=0.02    # 0.02 works\n",
    "min_samples=1\n",
    "# ours_clusters = DBSCAN(eps=eps, min_samples=min_samples).fit(f1[0].detach().cpu().numpy()).labels_\n",
    "# mb_clusters = DBSCAN(eps=eps, min_samples=min_samples).fit(f_mb[0].detach().cpu().numpy()).labels_\n",
    "# gt_clusters = DBSCAN(eps=eps, min_samples=min_samples).fit(gt_flow[0,clusters==c_id, :3].detach().cpu().numpy()).labels_\n",
    "\n",
    "# visualize_points3D(p1[0], ours_clusters, bg_color=bg_color, show_grid=False, show_axis=False, lookat=lookat, r=r)\n",
    "# visualize_points3D(p1[0], mb_clusters, bg_color=bg_color, show_grid=False, show_axis=False, lookat=lookat, r=r)\n",
    "# visualize_points3D(p1[0], gt_clusters, bg_color=bg_color, show_grid=False, show_axis=False, lookat=lookat, r=r)\n",
    "\n",
    "# visualize_flow3d(pc1[0], pc2[0], gt_flow[0, :, :3])\n",
    "\n",
    "# visualize_points3D(p1[0], diff_f1, bg_color=bg_color, show_grid=False, show_axis=False, color_map_scale=scale, lookat=lookat, r=r)\n",
    "# visualize_points3D(p1[0], diff_mb,  bg_color=bg_color, show_grid=False, show_axis=False, color_map_scale=scale, lookat=lookat, r=r)\n",
    "# visualize_points3D(p1[0], diff_gt,  bg_color=bg_color, show_grid=False, show_axis=False, color_map_scale=scale, lookat=lookat, r=r)\n",
    "# mb_heading = torch.atan2(f_mb[0, :, 1], f_mb[0, :, 0])\n",
    "gt_heading = torch.atan2(gt_flow[0, clusters==c_id, 1], gt_flow[0, clusters==c_id, 0])\n",
    "ours_heading = torch.atan2(f1[0, :, 1], f1[0, :, 0])\n",
    "\n",
    "f1_mag = f1[0].norm(dim=-1)\n",
    "# f_mb_mag = f_mb[0].norm(dim=-1)\n",
    "gt_mag = gt_flow[0, clusters==c_id, :3].norm(dim=-1)\n",
    "\n",
    "# gt_flow_vis[:, 0] *= 2\n",
    "# flow_KNN[:, 0] *= 1.5\n",
    "# flow_MB[:, 0] *= 1.5\n",
    "visualize_points3D(p1[0], flow_KNN, bg_color=bg_color, show_grid=False, show_axis=False, lookat=lookat, r=r, show_info=False)\n",
    "# visualize_points3D(p1[0], flow_MB,  bg_color=bg_color, show_grid=False, show_axis=False, lookat=lookat, r=r, show_info=False)\n",
    "visualize_points3D(p1[0], gt_flow_vis, bg_color=bg_color, show_grid=False, show_axis=False, lookat=lookat, r=r, show_info=False)"
   ]
  }
 ],
 "metadata": {
  "kernelspec": {
   "display_name": "Python 3 (ipykernel)",
   "language": "python",
   "name": "python3"
  },
  "language_info": {
   "codemirror_mode": {
    "name": "ipython",
    "version": 3
   },
   "file_extension": ".py",
   "mimetype": "text/x-python",
   "name": "python",
   "nbconvert_exporter": "python",
   "pygments_lexer": "ipython3",
   "version": "3.11.3"
  }
 },
 "nbformat": 4,
 "nbformat_minor": 2
}
