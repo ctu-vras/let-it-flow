{
 "cells": [
  {
   "cell_type": "markdown",
   "id": "b1b231ad983633e3",
   "metadata": {
    "collapsed": false
   },
   "source": [
    "\n",
    "# Notes\n",
    "- Prio: Fast testing of models in dev mode\n",
    "  - [x] connect Jupyter \n",
    "    - [ ] Framework \n",
    "    \n",
    "- RigidNeuralPrior can fit as a regular neural prior after some (tested in 500 epochs) iterations\n",
    "- Transform and refinement layer works, but lacks regularization, that maybe cyclic smoothness provides (todo experiment)\n",
    "- If NN in refinement has big weight, it deforms quickly\n",
    "- Add same flow along z-axis as it is in gravity when we know the transformation (todo experiment)\n",
    "- In this sample, the transformation is fitted correctly\n",
    "- With Neural Prior, it will never be correct transformation, since Neural Prior can compensate translation with bias? But bias is only 1 number\n",
    "- Paralel computation of Prior and Transformation? (todo experiment)\n",
    "- Fit transformation first, then fit (Sequentialy/jointly) neural prior? (todo experiment)\n",
    "- How to trust rigid transform more? (todo experiment)\n",
    "- How to find robust transformation"
   ]
  },
  {
   "cell_type": "code",
   "execution_count": 1,
   "id": "eac1ed480db68a39",
   "metadata": {
    "ExecuteTime": {
     "end_time": "2023-10-27T10:20:28.874838206Z",
     "start_time": "2023-10-27T10:20:22.644008628Z"
    },
    "collapsed": true
   },
   "outputs": [
    {
     "name": "stdout",
     "output_type": "stream",
     "text": [
      "Fri Oct 27 12:20:28 2023       \n",
      "+---------------------------------------------------------------------------------------+\n",
      "| NVIDIA-SMI 530.30.02              Driver Version: 530.30.02    CUDA Version: 12.1     |\n",
      "|-----------------------------------------+----------------------+----------------------+\n",
      "| GPU  Name                  Persistence-M| Bus-Id        Disp.A | Volatile Uncorr. ECC |\n",
      "| Fan  Temp  Perf            Pwr:Usage/Cap|         Memory-Usage | GPU-Util  Compute M. |\n",
      "|                                         |                      |               MIG M. |\n",
      "|=========================================+======================+======================|\n",
      "|   0  NVIDIA A100-SXM4-40GB           On | 00000000:01:00.0 Off |                    0 |\n",
      "| N/A   26C    P0               57W / 400W|   3037MiB / 40960MiB |      0%      Default |\n",
      "|                                         |                      |             Disabled |\n",
      "+-----------------------------------------+----------------------+----------------------+\n",
      "                                                                                         \n",
      "+---------------------------------------------------------------------------------------+\n",
      "| Processes:                                                                            |\n",
      "|  GPU   GI   CI        PID   Type   Process name                            GPU Memory |\n",
      "|        ID   ID                                                             Usage      |\n",
      "|=======================================================================================|\n",
      "|    0   N/A  N/A   1800212      C   ....10.4-GCCcore-11.3.0/bin/python3.10     1230MiB |\n",
      "|    0   N/A  N/A   1816323      C   ....10.4-GCCcore-11.3.0/bin/python3.10      902MiB |\n",
      "|    0   N/A  N/A   1817652      C   ....10.4-GCCcore-11.3.0/bin/python3.10      902MiB |\n",
      "+---------------------------------------------------------------------------------------+\n"
     ]
    },
    {
     "data": {
      "text/plain": [
       "0"
      ]
     },
     "execution_count": 1,
     "metadata": {},
     "output_type": "execute_result"
    }
   ],
   "source": [
    "# NN index \"distance\" transform\n",
    "    # - construct points around the original point cloud in another dimension (each point has its surroundings a row means index)\n",
    "    # - distance is coded as a order in which points goes (for example, you add points in one \"cell\" and those are first, adjacent two cells are seconds)\n",
    "    # - overlapping points that are \"more distant\" comes later along the axis, so if you order the final value backwards, the closest should be in the voxel\n",
    "    # - this can maybe be generalizable into K-NN? Such as using K voxel grids and unique indices?\n",
    "    # - task for Ruslan?\n",
    "    # - precision is cell size, because we do not know which one is closer in that cell. Well we know because of values and they can be subtracted, but that might be to much of a hassle. And cell can encode only one value, so we are bounded by this one\n",
    "    # - max_radius parameter defines the amount of constructed points\n",
    "    # - you can construct all points and then sort it based on distance to the central points\n",
    "    # - Ordering of operations are crucial to the solution\n",
    "    # - Basically you are implementing ball query to voxel grid\n",
    "%load_ext autoreload\n",
    "%autoreload 2\n",
    "\n",
    "\n",
    "\n",
    "import os\n",
    "os.chdir('/home/vacekpa2/4D-RNSFP')\n",
    "import torch\n",
    "import time\n",
    "import numpy as np\n",
    "import cupy as cp\n",
    "from cucim.core.operations import morphology\n",
    "from pytorch3d.ops.knn import knn_points\n",
    "\n",
    "from data.dataloader import SFDataset4D\n",
    "from vis.deprecated_vis import *\n",
    "from loss.flow import DT\n",
    "from vis.deprecated_vis import visualize_points3D, visualize_multiple_pcls, imshow\n",
    "\n",
    "\n",
    "\n",
    "device = torch.device('cuda:0')\n",
    "\n",
    "dataset = SFDataset4D(dataset_type='waymo', n_frames=1)\n",
    "data = dataset.__getitem__(80)\n",
    "\n",
    "device = torch.device('cuda:0')\n",
    "pc1 = data['pc1'].to(device)\n",
    "pc2 = data['pc2'].to(device)\n",
    "id_mask1 = data['id_mask1'].to(device)\n",
    "\n",
    "\n",
    "os.system('nvidia-smi')\n"
   ]
  },
  {
   "cell_type": "markdown",
   "id": "98b5b85ff86bddf5",
   "metadata": {
    "collapsed": false
   },
   "source": [
    "### 1-NN module producing indices and distances\n",
    "\n",
    "### Input: pc1, pc2\n",
    "### Output: indices, distances\n",
    "\n",
    "### Features\n",
    "- stored dt\n",
    "- grid factor\n",
    "- Tensor of indices\n",
    "- automatic recalc of coordinates\n",
    "- batch forward pass\n",
    "- If not necessary: do not generate inside cell NN for precise NN \n",
    "\n",
    "### Do not Generate:\n",
    "- K-NN\n",
    "- longer time in second iter, if not necessary\n",
    "\n",
    "### Representation\n",
    "- Class with forward pass\n",
    "- indices: (B, N, 1)\n",
    "- distances: (B, N, 1)\n"
   ]
  },
  {
   "cell_type": "markdown",
   "id": "b8a1d1f15ca129c8",
   "metadata": {
    "collapsed": false
   },
   "source": [
    "### Pseudo code\n",
    "- [x] get pc1, pc2 \n",
    "- [x] construct grid from ranges\n",
    "- [x] transform pc coordinates to grid coordinates\n",
    "- [x] compute dt and index grid (original points, not dt indices)\n",
    "- [x] use dt indices to gather correspondences\n",
    "- [x] return distances and indices\n",
    "- [x] refine for speed and readability\n",
    "- [x] encapsulate to module"
   ]
  },
  {
   "cell_type": "code",
   "execution_count": 2,
   "id": "2b0576232c40a3ab",
   "metadata": {
    "ExecuteTime": {
     "end_time": "2023-10-27T10:23:46.267453144Z",
     "start_time": "2023-10-27T10:20:55.648947401Z"
    },
    "collapsed": false
   },
   "outputs": [
    {
     "name": "stdout",
     "output_type": "stream",
     "text": [
      "243 ms ± 257 µs per loop (mean ± std. dev. of 7 runs, 100 loops each)\n"
     ]
    },
    {
     "name": "stderr",
     "output_type": "stream",
     "text": [
      "  0%|          | 0/700 [00:00<?, ?it/s]\n"
     ]
    },
    {
     "ename": "NameError",
     "evalue": "name 'NN_module' is not defined",
     "output_type": "error",
     "traceback": [
      "\u001b[0;31m---------------------------------------------------------------------------\u001b[0m",
      "\u001b[0;31mNameError\u001b[0m                                 Traceback (most recent call last)",
      "Cell \u001b[0;32mIn [2], line 16\u001b[0m\n\u001b[1;32m     12\u001b[0m optimizer \u001b[38;5;241m=\u001b[39m torch\u001b[38;5;241m.\u001b[39moptim\u001b[38;5;241m.\u001b[39mAdam([pred_flow], lr\u001b[38;5;241m=\u001b[39m\u001b[38;5;241m0.001\u001b[39m)\n\u001b[1;32m     14\u001b[0m \u001b[38;5;28;01mfor\u001b[39;00m i \u001b[38;5;129;01min\u001b[39;00m tqdm(\u001b[38;5;28mrange\u001b[39m(\u001b[38;5;241m700\u001b[39m)):\n\u001b[0;32m---> 16\u001b[0m     dist, NN_indices \u001b[38;5;241m=\u001b[39m \u001b[43mNN_module\u001b[49m(pc1, pred_flow, pc2)\n\u001b[1;32m     17\u001b[0m     \u001b[38;5;66;03m# dist, NN_indices = DT_module.torch_bilinear_distance(pc1 + pred_flow)\u001b[39;00m\n\u001b[1;32m     18\u001b[0m     smooth_loss \u001b[38;5;241m=\u001b[39m SmoothnessModule(pc1, pred_flow, pc2)\n",
      "\u001b[0;31mNameError\u001b[0m: name 'NN_module' is not defined"
     ]
    }
   ],
   "source": [
    "# %%timeit -n 10\n",
    "from tqdm import tqdm\n",
    "from loss.flow import FastNN, SmoothnessLoss, DT\n",
    "\n",
    "    \n",
    "# DT_module = DT(pc1, pc2)\n",
    "%timeit -n 100 FastNN(pc1,pc2)\n",
    "SmoothnessModule = SmoothnessLoss(pc1, pc2=None, K=8, pc2_smooth=False, forward_weight=False)\n",
    "pred_flow = torch.zeros(pc1.shape, device=pc1.device, requires_grad=True)\n",
    "# dist, NN_indices = NN_module(pc1, pred_flow, pc2)\n",
    " \n",
    "optimizer = torch.optim.Adam([pred_flow], lr=0.001)\n",
    "\n",
    "for i in tqdm(range(700)):\n",
    "    \n",
    "    dist, NN_indices = NN_module(pc1, pred_flow, pc2)\n",
    "    # dist, NN_indices = DT_module.torch_bilinear_distance(pc1 + pred_flow)\n",
    "    smooth_loss = SmoothnessModule(pc1, pred_flow, pc2)\n",
    "    \n",
    "    loss = dist.mean() + smooth_loss.mean()\n",
    "    loss.backward()\n",
    "    # print(loss.item())\n",
    "    \n",
    "    optimizer.step()\n",
    "    optimizer.zero_grad()"
   ]
  },
  {
   "cell_type": "code",
   "execution_count": null,
   "id": "dbabbddf",
   "metadata": {},
   "outputs": [],
   "source": [
    "import os\n",
    "os.system('CUDA_LAUNCH_BLOCKING=1')\n",
    "from data.toy import get_frames\n",
    "from pytorch3d.ops.knn import knn_points\n",
    "import torch\n",
    "import time\n",
    "\n",
    "gpu = 'cuda:1'\n",
    "pc1, pc2 = get_frames(gpu=gpu)\n",
    "device = torch.device(gpu)\n",
    "# new Fast KNN\n",
    "meter_range = (100,100,5)\n",
    "grid_cell = 0.1\n",
    "volume_size = (int(meter_range[0] / grid_cell) + 2, int(meter_range[1] / grid_cell) + 2, int(meter_range[2] / grid_cell) + 2)\n",
    "volume = torch.zeros(volume_size, device=device, dtype=torch.long)\n",
    "\n",
    "\n",
    "\n",
    "N = 1000 * 1000 * 50 * 2 ** 2\n",
    "pts = torch.rand((N,3), device=device).unsqueeze(0) * 90\n",
    "pts[:, :, 2] = 1\n",
    "\n",
    "\n",
    "\n",
    "st = time.time()\n",
    "dist, nn, _ = knn_points(pts, pc1, K=1)\n",
    "print(time.time() - st)\n",
    "\n",
    "cell_indices = (pts[0] / grid_cell).long()\n",
    "pc1_indices = (pc1[0] / grid_cell).long().clip(0, 49)\n",
    "\n",
    "print(nn.shape)\n",
    "st = time.time()\n",
    "volume[cell_indices[:,0], cell_indices[:,1], cell_indices[:,2]] = nn[0,:,0]\n",
    "print(time.time() - st)\n",
    "\n",
    "st = time.time()\n",
    "pc1_nn = volume[pc1_indices[:,0], pc1_indices[:,1], pc1_indices[:,2]]\n",
    "print(time.time() - st)"
   ]
  }
 ],
 "metadata": {
  "kernelspec": {
   "display_name": "Python 3",
   "language": "python",
   "name": "python3"
  },
  "language_info": {
   "codemirror_mode": {
    "name": "ipython",
    "version": 2
   },
   "file_extension": ".py",
   "mimetype": "text/x-python",
   "name": "python",
   "nbconvert_exporter": "python",
   "pygments_lexer": "ipython2",
   "version": "2.7.6"
  }
 },
 "nbformat": 4,
 "nbformat_minor": 5
}
